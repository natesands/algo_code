{
 "cells": [
  {
   "cell_type": "code",
   "execution_count": null,
   "metadata": {},
   "outputs": [],
   "source": [
    "# HEAP SORT\n",
    "\n",
    "'''\n",
    "HEAPS\n",
    "=====\n",
    "\n",
    "Max-Heapify   O(lg n)\n",
    "Build-Max-Heap O(n)\n",
    "Heapsort O(n lg n)\n",
    "\n",
    "Max-Heap-Insert, Heap-Extract-Max, Heap-Increase-Key,\n",
    "Heap-Maximyum   O(lg n)\n",
    "'''"
   ]
  },
  {
   "cell_type": "code",
   "execution_count": 82,
   "metadata": {},
   "outputs": [],
   "source": [
    "# MAX HEAP\n",
    "\n",
    "def parent(i: int):\n",
    "    return (i - 1)//2\n",
    "\n",
    "def left(i: int):\n",
    "    return 2*i + 1    # don't forgetL\n",
    "\n",
    "def right(i: int):\n",
    "    return 2*i + 2\n",
    "\n",
    "# Maintaining the max-heap property:  A[parent(i)] >= A[i]\n",
    "\n",
    "def max_heapify(A: list, i: int, n: int):  #need to pass n for heap sort\n",
    "    if left(i) <= n-1 and A[left(i)] > A[i]:\n",
    "        largest = left(i)\n",
    "    else: \n",
    "        largest = i\n",
    "    if right(i) <= n -1 and A[right(i)] > A[largest]:\n",
    "        largest = right(i)\n",
    "    if largest != i:\n",
    "        A[i], A[largest] = A[largest], A[i]\n",
    "        max_heapify(A, largest, n)"
   ]
  },
  {
   "cell_type": "code",
   "execution_count": 83,
   "metadata": {
    "scrolled": true
   },
   "outputs": [
    {
     "data": {
      "text/plain": [
       "[16, 14, 10, 8, 7, 9, 3, 2, 4, 1]"
      ]
     },
     "execution_count": 83,
     "metadata": {},
     "output_type": "execute_result"
    }
   ],
   "source": [
    "A = [16, 4, 10, 14, 7, 9, 3, 2, 8, 1]\n",
    "max_heapify(A, 1, len(A))\n",
    "A"
   ]
  },
  {
   "cell_type": "code",
   "execution_count": 86,
   "metadata": {},
   "outputs": [],
   "source": [
    "# building a heap\n",
    "\n",
    "def build_max_heap(A: list):\n",
    "    for i in range(len(A)-1, -1, -1):\n",
    "        max_heapify(A, i, len(A))\n"
   ]
  },
  {
   "cell_type": "code",
   "execution_count": 96,
   "metadata": {},
   "outputs": [
    {
     "data": {
      "text/plain": [
       "[16, 10, 14, 7, 9, 1, 3, 2, 4, 8]"
      ]
     },
     "execution_count": 96,
     "metadata": {},
     "output_type": "execute_result"
    }
   ],
   "source": [
    "B = [1,2,3,7,9,14,16,10,4,8]\n",
    "build_max_heap(B)\n",
    "B"
   ]
  },
  {
   "cell_type": "code",
   "execution_count": 97,
   "metadata": {},
   "outputs": [],
   "source": [
    "def heapsort(A: int, n: int):\n",
    "\n",
    "    build_max_heap(A)\n",
    "    for i in range(n-1,0,-1):\n",
    "        A[i], A[0] = A[0], A[i]\n",
    "        max_heapify(A,0,i)\n",
    "        \n",
    "        \n",
    "        "
   ]
  },
  {
   "cell_type": "code",
   "execution_count": 98,
   "metadata": {},
   "outputs": [
    {
     "name": "stdout",
     "output_type": "stream",
     "text": [
      "[16, 10, 14, 7, 9, 1, 3, 2, 4, 8]\n"
     ]
    },
    {
     "data": {
      "text/plain": [
       "[1, 2, 3, 4, 7, 8, 9, 10, 14, 16]"
      ]
     },
     "execution_count": 98,
     "metadata": {},
     "output_type": "execute_result"
    }
   ],
   "source": [
    "print(B)\n",
    "heapsort(B, len(B))\n",
    "B"
   ]
  },
  {
   "cell_type": "markdown",
   "metadata": {},
   "source": [
    "==========================================================="
   ]
  },
  {
   "cell_type": "code",
   "execution_count": 109,
   "metadata": {},
   "outputs": [],
   "source": [
    "# QUICKSORT\n",
    "\n",
    "def quicksort(A,p,r):  # p and r are the left and right indices of the sub-array to be sorted\n",
    "    if p < r:\n",
    "        q = partition(A,p,r)\n",
    "        quicksort(A,p,q)\n",
    "        quicksort(A,q+1,r)\n",
    "        \n",
    "def partition(A, p, r):\n",
    "    pivot = A[r]\n",
    "    i = p-1\n",
    "    for j in range(p,r):\n",
    "        if A[j] < pivot:\n",
    "            i += 1\n",
    "            A[i],A[j] = A[j], A[i]\n",
    "    A[i+1], A[r] = A[r], A[i+1]\n",
    "    return i\n",
    "    "
   ]
  },
  {
   "cell_type": "code",
   "execution_count": 110,
   "metadata": {},
   "outputs": [
    {
     "data": {
      "text/plain": [
       "[1, 2, 3, 4, 7, 8, 9, 10, 14, 16]"
      ]
     },
     "execution_count": 110,
     "metadata": {},
     "output_type": "execute_result"
    }
   ],
   "source": [
    "B = [1,2,3,7,9,14,16,10,4,8]\n",
    "quicksort(B, 0, len(B)-1)\n",
    "B"
   ]
  },
  {
   "cell_type": "markdown",
   "metadata": {},
   "source": [
    "============================================================"
   ]
  },
  {
   "cell_type": "code",
   "execution_count": 111,
   "metadata": {},
   "outputs": [],
   "source": [
    "import time"
   ]
  },
  {
   "cell_type": "code",
   "execution_count": 112,
   "metadata": {},
   "outputs": [
    {
     "ename": "AttributeError",
     "evalue": "module 'time' has no attribute 'clock_gettime'",
     "output_type": "error",
     "traceback": [
      "\u001b[0;31m---------------------------------------------------------------------------\u001b[0m",
      "\u001b[0;31mAttributeError\u001b[0m                            Traceback (most recent call last)",
      "\u001b[0;32m<ipython-input-112-3fd000288213>\u001b[0m in \u001b[0;36m<module>\u001b[0;34m\u001b[0m\n\u001b[0;32m----> 1\u001b[0;31m \u001b[0mtime\u001b[0m\u001b[0;34m.\u001b[0m\u001b[0mclock_gettime\u001b[0m\u001b[0;34m(\u001b[0m\u001b[0;34m)\u001b[0m\u001b[0;34m\u001b[0m\u001b[0;34m\u001b[0m\u001b[0m\n\u001b[0m",
      "\u001b[0;31mAttributeError\u001b[0m: module 'time' has no attribute 'clock_gettime'"
     ]
    }
   ],
   "source": [
    "time.clock_gettime()"
   ]
  },
  {
   "cell_type": "code",
   "execution_count": null,
   "metadata": {},
   "outputs": [],
   "source": []
  }
 ],
 "metadata": {
  "kernelspec": {
   "display_name": "Python 3",
   "language": "python",
   "name": "python3"
  },
  "language_info": {
   "codemirror_mode": {
    "name": "ipython",
    "version": 3
   },
   "file_extension": ".py",
   "mimetype": "text/x-python",
   "name": "python",
   "nbconvert_exporter": "python",
   "pygments_lexer": "ipython3",
   "version": "3.8.2"
  }
 },
 "nbformat": 4,
 "nbformat_minor": 4
}
