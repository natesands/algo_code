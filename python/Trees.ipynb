{
 "cells": [
  {
   "cell_type": "markdown",
   "metadata": {},
   "source": [
    "## Trees"
   ]
  },
  {
   "cell_type": "code",
   "execution_count": 58,
   "metadata": {},
   "outputs": [],
   "source": [
    "import numpy as np"
   ]
  },
  {
   "cell_type": "code",
   "execution_count": 46,
   "metadata": {},
   "outputs": [],
   "source": [
    "### Binary Search Trees ###\n",
    "\n",
    "class Node:\n",
    "    def __init__(self, data = None, left = None, right = None, parent = None):\n",
    "        self.data = data\n",
    "        self.left = left\n",
    "        self.right = right\n",
    "        self.parent = parent\n",
    "    \n",
    "    def __repr__(self):\n",
    "        return str(self.data)\n",
    "    \n",
    "class Tree:\n",
    "    def __init__(self, root = None):\n",
    "        self.root = root"
   ]
  },
  {
   "cell_type": "code",
   "execution_count": 50,
   "metadata": {},
   "outputs": [],
   "source": [
    "def insert(T: Tree, z: Node):\n",
    "    y = None\n",
    "    x = T.root\n",
    "    while x is not None:\n",
    "        y = x\n",
    "        if z.data < x.data:\n",
    "            x = x.left\n",
    "        else:\n",
    "            x = x.right\n",
    "    z.parent = y\n",
    "    if y == None:\n",
    "        T.root = z\n",
    "    elif z.data < y.data:\n",
    "        y.left = z\n",
    "    else:\n",
    "        y.right = z"
   ]
  },
  {
   "cell_type": "code",
   "execution_count": 61,
   "metadata": {},
   "outputs": [],
   "source": [
    "def in_order(root: Node):\n",
    "    if root.left is not None:\n",
    "        in_order(root.left)\n",
    "    print(root.data)\n",
    "    if root.right is not None:\n",
    "        in_order(root.right)\n",
    "    "
   ]
  },
  {
   "cell_type": "code",
   "execution_count": 63,
   "metadata": {},
   "outputs": [],
   "source": [
    "T = Tree()"
   ]
  },
  {
   "cell_type": "code",
   "execution_count": 64,
   "metadata": {},
   "outputs": [],
   "source": [
    "for i in range(10):\n",
    "    n = np.random.randint(1,50)\n",
    "    insert(T, Node(n))"
   ]
  },
  {
   "cell_type": "code",
   "execution_count": 73,
   "metadata": {},
   "outputs": [
    {
     "name": "stdout",
     "output_type": "stream",
     "text": [
      "1\n",
      "13\n",
      "13\n",
      "15\n",
      "17\n",
      "21\n",
      "23\n",
      "30\n",
      "33\n",
      "42\n"
     ]
    }
   ],
   "source": [
    "in_order(T.root)    "
   ]
  },
  {
   "cell_type": "code",
   "execution_count": 83,
   "metadata": {},
   "outputs": [],
   "source": [
    "def search(root: Node, val: int):\n",
    "    if root is None or root.data == val:\n",
    "        return root\n",
    "    if val < root.data:\n",
    "        return search(root.left, val)\n",
    "    else:\n",
    "        return search(root.right, val)"
   ]
  },
  {
   "cell_type": "code",
   "execution_count": 86,
   "metadata": {},
   "outputs": [],
   "source": [
    "n = search(T.root, 30)\n",
    "n"
   ]
  },
  {
   "cell_type": "code",
   "execution_count": 88,
   "metadata": {},
   "outputs": [],
   "source": [
    "n.data = 31"
   ]
  },
  {
   "cell_type": "code",
   "execution_count": 89,
   "metadata": {},
   "outputs": [
    {
     "name": "stdout",
     "output_type": "stream",
     "text": [
      "1\n",
      "13\n",
      "13\n",
      "15\n",
      "17\n",
      "21\n",
      "23\n",
      "31\n",
      "33\n",
      "42\n"
     ]
    }
   ],
   "source": [
    "in_order(T.root)"
   ]
  },
  {
   "cell_type": "code",
   "execution_count": 90,
   "metadata": {},
   "outputs": [],
   "source": [
    "def tree_min(root: Node):\n",
    "    x = root\n",
    "    while x.left is not None:\n",
    "        x = x.left\n",
    "    return x.data"
   ]
  },
  {
   "cell_type": "code",
   "execution_count": 91,
   "metadata": {},
   "outputs": [
    {
     "data": {
      "text/plain": [
       "1"
      ]
     },
     "execution_count": 91,
     "metadata": {},
     "output_type": "execute_result"
    }
   ],
   "source": [
    "tree_min(T.root)"
   ]
  },
  {
   "cell_type": "code",
   "execution_count": null,
   "metadata": {},
   "outputs": [],
   "source": []
  }
 ],
 "metadata": {
  "kernelspec": {
   "display_name": "Python 3 (ipykernel)",
   "language": "python",
   "name": "python3"
  },
  "language_info": {
   "codemirror_mode": {
    "name": "ipython",
    "version": 3
   },
   "file_extension": ".py",
   "mimetype": "text/x-python",
   "name": "python",
   "nbconvert_exporter": "python",
   "pygments_lexer": "ipython3",
   "version": "3.9.6"
  }
 },
 "nbformat": 4,
 "nbformat_minor": 4
}
